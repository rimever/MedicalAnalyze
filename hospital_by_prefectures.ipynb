{
 "cells": [
  {
   "cell_type": "code",
   "execution_count": null,
   "metadata": {},
   "outputs": [],
   "source": [
    "import pandas as pd\n",
    "import numpy as np\n",
    "from matplotlib import pyplot as plt\n",
    "\n",
    "data = pd.read_csv( 'hospital_by_prefectures.csv' ,index_col=0,comment ='#')\n",
    "data.head()"
   ]
  },
  {
   "cell_type": "code",
   "execution_count": 5,
   "metadata": {
    "scrolled": true
   },
   "outputs": [
    {
     "name": "stdout",
     "output_type": "stream",
     "text": [
      "| 都道府県   |   1996年 |   1999年 |   2002年 |   2005年 |   2008年 |   2011年 |   2014年 |   2015年 |   2016年 |   人口10万対 |\n",
      "|:-----------|---------:|---------:|---------:|---------:|---------:|---------:|---------:|---------:|---------:|-------------:|\n",
      "| 全　国     |     9490 |     9286 |     9187 |     9026 |     8794 |     8605 |     8493 |     8480 |     8442 |          6.7 |\n"
     ]
    }
   ],
   "source": [
    "temp = data.query(\"都道府県 == '全　国'\")\n",
    "from tabulate import tabulate\n",
    "print(tabulate(temp, headers='keys', tablefmt='pipe'))"
   ]
  },
  {
   "cell_type": "code",
   "execution_count": 7,
   "metadata": {},
   "outputs": [
    {
     "name": "stdout",
     "output_type": "stream",
     "text": [
      "| 都道府県   |   1996年 |   1999年 |   2002年 |   2005年 |   2008年 |   2011年 |   2014年 |   2015年 |   2016年 |   人口10万対 |\n",
      "|:-----------|---------:|---------:|---------:|---------:|---------:|---------:|---------:|---------:|---------:|-------------:|\n",
      "| 神奈川     |      370 |      363 |      361 |      356 |      348 |      344 |      342 |      341 |      341 |          3.7 |\n",
      "| 滋　賀     |       59 |       58 |       62 |       63 |       60 |       60 |       58 |       57 |       57 |          4   |\n",
      "| 愛　知     |      394 |      374 |      365 |      350 |      334 |      327 |      321 |      322 |      323 |          4.3 |\n",
      "| 千　葉     |      304 |      299 |      296 |      287 |      284 |      279 |      284 |      285 |      286 |          4.6 |\n",
      "| 埼　玉     |      371 |      366 |      367 |      361 |      355 |      346 |      341 |      343 |      342 |          4.7 |\n",
      "| 東　京     |      704 |      684 |      681 |      667 |      648 |      643 |      642 |      648 |      651 |          4.8 |\n",
      "| 静　岡     |      183 |      180 |      182 |      189 |      184 |      186 |      182 |      180 |      181 |          4.9 |\n",
      "| 岐　阜     |      121 |      116 |      112 |      110 |      103 |      104 |      102 |      102 |      102 |          5   |\n",
      "| 栃　木     |      119 |      115 |      118 |      118 |      113 |      109 |      109 |      108 |      107 |          5.4 |\n",
      "| 三　重     |      120 |      118 |      117 |      113 |      108 |      102 |      102 |      101 |      100 |          5.5 |\n",
      "| 新　潟     |      136 |      138 |      141 |      139 |      137 |      130 |      131 |      132 |      131 |          5.7 |\n",
      "| 奈　良     |       73 |       73 |       75 |       78 |       76 |       75 |       77 |       78 |       77 |          5.7 |\n",
      "| 大　阪     |      591 |      575 |      566 |      552 |      541 |      534 |      530 |      531 |      523 |          5.9 |\n",
      "| 宮　城     |      152 |      149 |      149 |      151 |      146 |      141 |      142 |      141 |      139 |          6   |\n",
      "| 山　形     |       69 |       69 |       69 |       70 |       70 |       68 |       68 |       68 |       68 |          6.1 |\n",
      "| 茨　城     |      225 |      215 |      208 |      205 |      192 |      183 |      181 |      179 |      178 |          6.1 |\n",
      "| 長　野     |      145 |      140 |      141 |      137 |      137 |      133 |      131 |      130 |      130 |          6.2 |\n",
      "| 兵　庫     |      349 |      347 |      349 |      350 |      353 |      348 |      353 |      353 |      350 |          6.3 |\n",
      "| 京　都     |      196 |      186 |      182 |      177 |      177 |      175 |      174 |      172 |      170 |          6.5 |\n",
      "| 沖　縄     |       88 |       93 |       95 |       95 |       94 |       95 |       94 |       94 |       94 |          6.5 |\n",
      "| 群　馬     |      140 |      144 |      144 |      143 |      139 |      133 |      129 |      130 |      129 |          6.6 |\n",
      "| 全　国     |     9490 |     9286 |     9187 |     9026 |     8794 |     8605 |     8493 |     8480 |     8442 |          6.7 |\n",
      "| 福　島     |      165 |      156 |      152 |      147 |      145 |      130 |      128 |      127 |      128 |          6.7 |\n",
      "| 秋　田     |       86 |       82 |       80 |       78 |       78 |       75 |       72 |       70 |       69 |          6.8 |\n",
      "| 山　梨     |       61 |       59 |       62 |       61 |       60 |       60 |       60 |       60 |       60 |          7.2 |\n",
      "| 岩　手     |      110 |      110 |      109 |      107 |       98 |       92 |       91 |       91 |       93 |          7.3 |\n",
      "| 青　森     |      112 |      113 |      110 |      109 |      105 |      102 |       97 |       97 |       96 |          7.4 |\n",
      "| 島　根     |       63 |       61 |       59 |       58 |       57 |       54 |       52 |       51 |       51 |          7.4 |\n",
      "| 鳥　取     |       42 |       44 |       46 |       45 |       46 |       45 |       45 |       45 |       44 |          7.7 |\n",
      "| 石　川     |      128 |      120 |      114 |      109 |      102 |      101 |       97 |       97 |       95 |          8.3 |\n",
      "| 広　島     |      280 |      269 |      267 |      261 |      256 |      249 |      244 |      243 |      244 |          8.6 |\n",
      "| 岡　山     |      199 |      197 |      191 |      183 |      179 |      174 |      167 |      164 |      164 |          8.6 |\n",
      "| 和歌山     |       95 |       93 |       91 |       91 |       92 |       92 |       86 |       86 |       83 |          8.7 |\n",
      "| 福　井     |       98 |       93 |       91 |       86 |       77 |       72 |       70 |       70 |       68 |          8.7 |\n",
      "| 福　岡     |      492 |      489 |      485 |      478 |      468 |      467 |      460 |      462 |      461 |          9   |\n",
      "| 香　川     |      121 |      114 |      107 |      105 |       96 |       93 |       90 |       91 |       90 |          9.3 |\n",
      "| 富　山     |      118 |      114 |      114 |      115 |      113 |      110 |      107 |      107 |      106 |         10   |\n",
      "| 愛　媛     |      161 |      157 |      156 |      153 |      146 |      144 |      143 |      142 |      141 |         10.3 |\n",
      "| 北海道     |      654 |      640 |      634 |      620 |      594 |      579 |      569 |      566 |      562 |         10.5 |\n",
      "| 山　口     |      158 |      154 |      152 |      151 |      148 |      147 |      147 |      147 |      147 |         10.5 |\n",
      "| 長　崎     |      180 |      177 |      173 |      168 |      165 |      160 |      156 |      154 |      151 |         11   |\n",
      "| 熊　本     |      234 |      230 |      225 |      222 |      217 |      216 |      214 |      214 |      212 |         12   |\n",
      "| 宮　崎     |      166 |      161 |      152 |      149 |      145 |      142 |      140 |      140 |      140 |         12.8 |\n",
      "| 佐　賀     |      120 |      118 |      114 |      111 |      110 |      110 |      108 |      108 |      107 |         12.9 |\n",
      "| 大　分     |      164 |      161 |      164 |      165 |      165 |      160 |      158 |      157 |      157 |         13.5 |\n",
      "| 徳　島     |      132 |      134 |      130 |      123 |      119 |      114 |      113 |      113 |      112 |         14.9 |\n",
      "| 鹿児島     |      292 |      290 |      285 |      279 |      274 |      265 |      256 |      252 |      252 |         15.4 |\n",
      "| 高　知     |      150 |      148 |      144 |      141 |      140 |      137 |      130 |      131 |      130 |         18   |\n"
     ]
    }
   ],
   "source": [
    "temp = data.sort_values(by=[\"人口10万対\"], ascending=True)\n",
    "print(tabulate(temp, headers='keys', tablefmt='pipe'))"
   ]
  },
  {
   "cell_type": "code",
   "execution_count": 8,
   "metadata": {},
   "outputs": [
    {
     "name": "stdout",
     "output_type": "stream",
     "text": [
      "| 都道府県   |   1996年 |   1999年 |   2002年 |   2005年 |   2008年 |   2011年 |   2014年 |   2015年 |   2016年 |   人口10万対 |\n",
      "|:-----------|---------:|---------:|---------:|---------:|---------:|---------:|---------:|---------:|---------:|-------------:|\n",
      "| 高　知     |      150 |      148 |      144 |      141 |      140 |      137 |      130 |      131 |      130 |         18   |\n",
      "| 鹿児島     |      292 |      290 |      285 |      279 |      274 |      265 |      256 |      252 |      252 |         15.4 |\n",
      "| 徳　島     |      132 |      134 |      130 |      123 |      119 |      114 |      113 |      113 |      112 |         14.9 |\n",
      "| 大　分     |      164 |      161 |      164 |      165 |      165 |      160 |      158 |      157 |      157 |         13.5 |\n",
      "| 佐　賀     |      120 |      118 |      114 |      111 |      110 |      110 |      108 |      108 |      107 |         12.9 |\n",
      "| 宮　崎     |      166 |      161 |      152 |      149 |      145 |      142 |      140 |      140 |      140 |         12.8 |\n",
      "| 熊　本     |      234 |      230 |      225 |      222 |      217 |      216 |      214 |      214 |      212 |         12   |\n",
      "| 長　崎     |      180 |      177 |      173 |      168 |      165 |      160 |      156 |      154 |      151 |         11   |\n",
      "| 山　口     |      158 |      154 |      152 |      151 |      148 |      147 |      147 |      147 |      147 |         10.5 |\n",
      "| 北海道     |      654 |      640 |      634 |      620 |      594 |      579 |      569 |      566 |      562 |         10.5 |\n",
      "| 愛　媛     |      161 |      157 |      156 |      153 |      146 |      144 |      143 |      142 |      141 |         10.3 |\n",
      "| 富　山     |      118 |      114 |      114 |      115 |      113 |      110 |      107 |      107 |      106 |         10   |\n",
      "| 香　川     |      121 |      114 |      107 |      105 |       96 |       93 |       90 |       91 |       90 |          9.3 |\n",
      "| 福　岡     |      492 |      489 |      485 |      478 |      468 |      467 |      460 |      462 |      461 |          9   |\n",
      "| 和歌山     |       95 |       93 |       91 |       91 |       92 |       92 |       86 |       86 |       83 |          8.7 |\n",
      "| 福　井     |       98 |       93 |       91 |       86 |       77 |       72 |       70 |       70 |       68 |          8.7 |\n",
      "| 広　島     |      280 |      269 |      267 |      261 |      256 |      249 |      244 |      243 |      244 |          8.6 |\n",
      "| 岡　山     |      199 |      197 |      191 |      183 |      179 |      174 |      167 |      164 |      164 |          8.6 |\n",
      "| 石　川     |      128 |      120 |      114 |      109 |      102 |      101 |       97 |       97 |       95 |          8.3 |\n",
      "| 鳥　取     |       42 |       44 |       46 |       45 |       46 |       45 |       45 |       45 |       44 |          7.7 |\n",
      "| 青　森     |      112 |      113 |      110 |      109 |      105 |      102 |       97 |       97 |       96 |          7.4 |\n",
      "| 島　根     |       63 |       61 |       59 |       58 |       57 |       54 |       52 |       51 |       51 |          7.4 |\n",
      "| 岩　手     |      110 |      110 |      109 |      107 |       98 |       92 |       91 |       91 |       93 |          7.3 |\n",
      "| 山　梨     |       61 |       59 |       62 |       61 |       60 |       60 |       60 |       60 |       60 |          7.2 |\n",
      "| 秋　田     |       86 |       82 |       80 |       78 |       78 |       75 |       72 |       70 |       69 |          6.8 |\n",
      "| 福　島     |      165 |      156 |      152 |      147 |      145 |      130 |      128 |      127 |      128 |          6.7 |\n",
      "| 全　国     |     9490 |     9286 |     9187 |     9026 |     8794 |     8605 |     8493 |     8480 |     8442 |          6.7 |\n",
      "| 群　馬     |      140 |      144 |      144 |      143 |      139 |      133 |      129 |      130 |      129 |          6.6 |\n",
      "| 沖　縄     |       88 |       93 |       95 |       95 |       94 |       95 |       94 |       94 |       94 |          6.5 |\n",
      "| 京　都     |      196 |      186 |      182 |      177 |      177 |      175 |      174 |      172 |      170 |          6.5 |\n",
      "| 兵　庫     |      349 |      347 |      349 |      350 |      353 |      348 |      353 |      353 |      350 |          6.3 |\n",
      "| 長　野     |      145 |      140 |      141 |      137 |      137 |      133 |      131 |      130 |      130 |          6.2 |\n",
      "| 山　形     |       69 |       69 |       69 |       70 |       70 |       68 |       68 |       68 |       68 |          6.1 |\n",
      "| 茨　城     |      225 |      215 |      208 |      205 |      192 |      183 |      181 |      179 |      178 |          6.1 |\n",
      "| 宮　城     |      152 |      149 |      149 |      151 |      146 |      141 |      142 |      141 |      139 |          6   |\n",
      "| 大　阪     |      591 |      575 |      566 |      552 |      541 |      534 |      530 |      531 |      523 |          5.9 |\n",
      "| 奈　良     |       73 |       73 |       75 |       78 |       76 |       75 |       77 |       78 |       77 |          5.7 |\n",
      "| 新　潟     |      136 |      138 |      141 |      139 |      137 |      130 |      131 |      132 |      131 |          5.7 |\n",
      "| 三　重     |      120 |      118 |      117 |      113 |      108 |      102 |      102 |      101 |      100 |          5.5 |\n",
      "| 栃　木     |      119 |      115 |      118 |      118 |      113 |      109 |      109 |      108 |      107 |          5.4 |\n",
      "| 岐　阜     |      121 |      116 |      112 |      110 |      103 |      104 |      102 |      102 |      102 |          5   |\n",
      "| 静　岡     |      183 |      180 |      182 |      189 |      184 |      186 |      182 |      180 |      181 |          4.9 |\n",
      "| 東　京     |      704 |      684 |      681 |      667 |      648 |      643 |      642 |      648 |      651 |          4.8 |\n",
      "| 埼　玉     |      371 |      366 |      367 |      361 |      355 |      346 |      341 |      343 |      342 |          4.7 |\n",
      "| 千　葉     |      304 |      299 |      296 |      287 |      284 |      279 |      284 |      285 |      286 |          4.6 |\n",
      "| 愛　知     |      394 |      374 |      365 |      350 |      334 |      327 |      321 |      322 |      323 |          4.3 |\n",
      "| 滋　賀     |       59 |       58 |       62 |       63 |       60 |       60 |       58 |       57 |       57 |          4   |\n",
      "| 神奈川     |      370 |      363 |      361 |      356 |      348 |      344 |      342 |      341 |      341 |          3.7 |\n"
     ]
    }
   ],
   "source": [
    "temp = data.sort_values(by=[\"人口10万対\"], ascending=False)\n",
    "print(tabulate(temp, headers='keys', tablefmt='pipe'))"
   ]
  },
  {
   "cell_type": "code",
   "execution_count": 9,
   "metadata": {},
   "outputs": [
    {
     "name": "stdout",
     "output_type": "stream",
     "text": [
      "| 都道府県   |   1996年 |   1999年 |   2002年 |   2005年 |   2008年 |   2011年 |   2014年 |   2015年 |   2016年 |   人口10万対 |\n",
      "|:-----------|---------:|---------:|---------:|---------:|---------:|---------:|---------:|---------:|---------:|-------------:|\n",
      "| 鳥　取     |       42 |       44 |       46 |       45 |       46 |       45 |       45 |       45 |       44 |          7.7 |\n",
      "| 島　根     |       63 |       61 |       59 |       58 |       57 |       54 |       52 |       51 |       51 |          7.4 |\n",
      "| 滋　賀     |       59 |       58 |       62 |       63 |       60 |       60 |       58 |       57 |       57 |          4   |\n",
      "| 山　梨     |       61 |       59 |       62 |       61 |       60 |       60 |       60 |       60 |       60 |          7.2 |\n",
      "| 山　形     |       69 |       69 |       69 |       70 |       70 |       68 |       68 |       68 |       68 |          6.1 |\n",
      "| 福　井     |       98 |       93 |       91 |       86 |       77 |       72 |       70 |       70 |       68 |          8.7 |\n",
      "| 秋　田     |       86 |       82 |       80 |       78 |       78 |       75 |       72 |       70 |       69 |          6.8 |\n",
      "| 奈　良     |       73 |       73 |       75 |       78 |       76 |       75 |       77 |       78 |       77 |          5.7 |\n",
      "| 和歌山     |       95 |       93 |       91 |       91 |       92 |       92 |       86 |       86 |       83 |          8.7 |\n",
      "| 香　川     |      121 |      114 |      107 |      105 |       96 |       93 |       90 |       91 |       90 |          9.3 |\n",
      "| 岩　手     |      110 |      110 |      109 |      107 |       98 |       92 |       91 |       91 |       93 |          7.3 |\n",
      "| 沖　縄     |       88 |       93 |       95 |       95 |       94 |       95 |       94 |       94 |       94 |          6.5 |\n",
      "| 石　川     |      128 |      120 |      114 |      109 |      102 |      101 |       97 |       97 |       95 |          8.3 |\n",
      "| 青　森     |      112 |      113 |      110 |      109 |      105 |      102 |       97 |       97 |       96 |          7.4 |\n",
      "| 三　重     |      120 |      118 |      117 |      113 |      108 |      102 |      102 |      101 |      100 |          5.5 |\n",
      "| 岐　阜     |      121 |      116 |      112 |      110 |      103 |      104 |      102 |      102 |      102 |          5   |\n",
      "| 富　山     |      118 |      114 |      114 |      115 |      113 |      110 |      107 |      107 |      106 |         10   |\n",
      "| 栃　木     |      119 |      115 |      118 |      118 |      113 |      109 |      109 |      108 |      107 |          5.4 |\n",
      "| 佐　賀     |      120 |      118 |      114 |      111 |      110 |      110 |      108 |      108 |      107 |         12.9 |\n",
      "| 徳　島     |      132 |      134 |      130 |      123 |      119 |      114 |      113 |      113 |      112 |         14.9 |\n",
      "| 福　島     |      165 |      156 |      152 |      147 |      145 |      130 |      128 |      127 |      128 |          6.7 |\n",
      "| 群　馬     |      140 |      144 |      144 |      143 |      139 |      133 |      129 |      130 |      129 |          6.6 |\n",
      "| 長　野     |      145 |      140 |      141 |      137 |      137 |      133 |      131 |      130 |      130 |          6.2 |\n",
      "| 高　知     |      150 |      148 |      144 |      141 |      140 |      137 |      130 |      131 |      130 |         18   |\n",
      "| 新　潟     |      136 |      138 |      141 |      139 |      137 |      130 |      131 |      132 |      131 |          5.7 |\n",
      "| 宮　城     |      152 |      149 |      149 |      151 |      146 |      141 |      142 |      141 |      139 |          6   |\n",
      "| 宮　崎     |      166 |      161 |      152 |      149 |      145 |      142 |      140 |      140 |      140 |         12.8 |\n",
      "| 愛　媛     |      161 |      157 |      156 |      153 |      146 |      144 |      143 |      142 |      141 |         10.3 |\n",
      "| 山　口     |      158 |      154 |      152 |      151 |      148 |      147 |      147 |      147 |      147 |         10.5 |\n",
      "| 長　崎     |      180 |      177 |      173 |      168 |      165 |      160 |      156 |      154 |      151 |         11   |\n",
      "| 大　分     |      164 |      161 |      164 |      165 |      165 |      160 |      158 |      157 |      157 |         13.5 |\n",
      "| 岡　山     |      199 |      197 |      191 |      183 |      179 |      174 |      167 |      164 |      164 |          8.6 |\n",
      "| 京　都     |      196 |      186 |      182 |      177 |      177 |      175 |      174 |      172 |      170 |          6.5 |\n",
      "| 茨　城     |      225 |      215 |      208 |      205 |      192 |      183 |      181 |      179 |      178 |          6.1 |\n",
      "| 静　岡     |      183 |      180 |      182 |      189 |      184 |      186 |      182 |      180 |      181 |          4.9 |\n",
      "| 熊　本     |      234 |      230 |      225 |      222 |      217 |      216 |      214 |      214 |      212 |         12   |\n",
      "| 広　島     |      280 |      269 |      267 |      261 |      256 |      249 |      244 |      243 |      244 |          8.6 |\n",
      "| 鹿児島     |      292 |      290 |      285 |      279 |      274 |      265 |      256 |      252 |      252 |         15.4 |\n",
      "| 千　葉     |      304 |      299 |      296 |      287 |      284 |      279 |      284 |      285 |      286 |          4.6 |\n",
      "| 愛　知     |      394 |      374 |      365 |      350 |      334 |      327 |      321 |      322 |      323 |          4.3 |\n",
      "| 神奈川     |      370 |      363 |      361 |      356 |      348 |      344 |      342 |      341 |      341 |          3.7 |\n",
      "| 埼　玉     |      371 |      366 |      367 |      361 |      355 |      346 |      341 |      343 |      342 |          4.7 |\n",
      "| 兵　庫     |      349 |      347 |      349 |      350 |      353 |      348 |      353 |      353 |      350 |          6.3 |\n",
      "| 福　岡     |      492 |      489 |      485 |      478 |      468 |      467 |      460 |      462 |      461 |          9   |\n",
      "| 大　阪     |      591 |      575 |      566 |      552 |      541 |      534 |      530 |      531 |      523 |          5.9 |\n",
      "| 北海道     |      654 |      640 |      634 |      620 |      594 |      579 |      569 |      566 |      562 |         10.5 |\n",
      "| 東　京     |      704 |      684 |      681 |      667 |      648 |      643 |      642 |      648 |      651 |          4.8 |\n",
      "| 全　国     |     9490 |     9286 |     9187 |     9026 |     8794 |     8605 |     8493 |     8480 |     8442 |          6.7 |\n"
     ]
    }
   ],
   "source": [
    "temp = data.sort_values(by=[\"2016年\"], ascending=True)\n",
    "print(tabulate(temp, headers='keys', tablefmt='pipe'))"
   ]
  },
  {
   "cell_type": "code",
   "execution_count": 10,
   "metadata": {},
   "outputs": [
    {
     "name": "stdout",
     "output_type": "stream",
     "text": [
      "| 都道府県   |   1996年 |   1999年 |   2002年 |   2005年 |   2008年 |   2011年 |   2014年 |   2015年 |   2016年 |   人口10万対 |\n",
      "|:-----------|---------:|---------:|---------:|---------:|---------:|---------:|---------:|---------:|---------:|-------------:|\n",
      "| 全　国     |     9490 |     9286 |     9187 |     9026 |     8794 |     8605 |     8493 |     8480 |     8442 |          6.7 |\n",
      "| 東　京     |      704 |      684 |      681 |      667 |      648 |      643 |      642 |      648 |      651 |          4.8 |\n",
      "| 北海道     |      654 |      640 |      634 |      620 |      594 |      579 |      569 |      566 |      562 |         10.5 |\n",
      "| 大　阪     |      591 |      575 |      566 |      552 |      541 |      534 |      530 |      531 |      523 |          5.9 |\n",
      "| 福　岡     |      492 |      489 |      485 |      478 |      468 |      467 |      460 |      462 |      461 |          9   |\n",
      "| 兵　庫     |      349 |      347 |      349 |      350 |      353 |      348 |      353 |      353 |      350 |          6.3 |\n",
      "| 埼　玉     |      371 |      366 |      367 |      361 |      355 |      346 |      341 |      343 |      342 |          4.7 |\n",
      "| 神奈川     |      370 |      363 |      361 |      356 |      348 |      344 |      342 |      341 |      341 |          3.7 |\n",
      "| 愛　知     |      394 |      374 |      365 |      350 |      334 |      327 |      321 |      322 |      323 |          4.3 |\n",
      "| 千　葉     |      304 |      299 |      296 |      287 |      284 |      279 |      284 |      285 |      286 |          4.6 |\n",
      "| 鹿児島     |      292 |      290 |      285 |      279 |      274 |      265 |      256 |      252 |      252 |         15.4 |\n",
      "| 広　島     |      280 |      269 |      267 |      261 |      256 |      249 |      244 |      243 |      244 |          8.6 |\n",
      "| 熊　本     |      234 |      230 |      225 |      222 |      217 |      216 |      214 |      214 |      212 |         12   |\n",
      "| 静　岡     |      183 |      180 |      182 |      189 |      184 |      186 |      182 |      180 |      181 |          4.9 |\n",
      "| 茨　城     |      225 |      215 |      208 |      205 |      192 |      183 |      181 |      179 |      178 |          6.1 |\n",
      "| 京　都     |      196 |      186 |      182 |      177 |      177 |      175 |      174 |      172 |      170 |          6.5 |\n",
      "| 岡　山     |      199 |      197 |      191 |      183 |      179 |      174 |      167 |      164 |      164 |          8.6 |\n",
      "| 大　分     |      164 |      161 |      164 |      165 |      165 |      160 |      158 |      157 |      157 |         13.5 |\n",
      "| 長　崎     |      180 |      177 |      173 |      168 |      165 |      160 |      156 |      154 |      151 |         11   |\n",
      "| 山　口     |      158 |      154 |      152 |      151 |      148 |      147 |      147 |      147 |      147 |         10.5 |\n",
      "| 愛　媛     |      161 |      157 |      156 |      153 |      146 |      144 |      143 |      142 |      141 |         10.3 |\n",
      "| 宮　崎     |      166 |      161 |      152 |      149 |      145 |      142 |      140 |      140 |      140 |         12.8 |\n",
      "| 宮　城     |      152 |      149 |      149 |      151 |      146 |      141 |      142 |      141 |      139 |          6   |\n",
      "| 新　潟     |      136 |      138 |      141 |      139 |      137 |      130 |      131 |      132 |      131 |          5.7 |\n",
      "| 長　野     |      145 |      140 |      141 |      137 |      137 |      133 |      131 |      130 |      130 |          6.2 |\n",
      "| 高　知     |      150 |      148 |      144 |      141 |      140 |      137 |      130 |      131 |      130 |         18   |\n",
      "| 群　馬     |      140 |      144 |      144 |      143 |      139 |      133 |      129 |      130 |      129 |          6.6 |\n",
      "| 福　島     |      165 |      156 |      152 |      147 |      145 |      130 |      128 |      127 |      128 |          6.7 |\n",
      "| 徳　島     |      132 |      134 |      130 |      123 |      119 |      114 |      113 |      113 |      112 |         14.9 |\n",
      "| 栃　木     |      119 |      115 |      118 |      118 |      113 |      109 |      109 |      108 |      107 |          5.4 |\n",
      "| 佐　賀     |      120 |      118 |      114 |      111 |      110 |      110 |      108 |      108 |      107 |         12.9 |\n",
      "| 富　山     |      118 |      114 |      114 |      115 |      113 |      110 |      107 |      107 |      106 |         10   |\n",
      "| 岐　阜     |      121 |      116 |      112 |      110 |      103 |      104 |      102 |      102 |      102 |          5   |\n",
      "| 三　重     |      120 |      118 |      117 |      113 |      108 |      102 |      102 |      101 |      100 |          5.5 |\n",
      "| 青　森     |      112 |      113 |      110 |      109 |      105 |      102 |       97 |       97 |       96 |          7.4 |\n",
      "| 石　川     |      128 |      120 |      114 |      109 |      102 |      101 |       97 |       97 |       95 |          8.3 |\n",
      "| 沖　縄     |       88 |       93 |       95 |       95 |       94 |       95 |       94 |       94 |       94 |          6.5 |\n",
      "| 岩　手     |      110 |      110 |      109 |      107 |       98 |       92 |       91 |       91 |       93 |          7.3 |\n",
      "| 香　川     |      121 |      114 |      107 |      105 |       96 |       93 |       90 |       91 |       90 |          9.3 |\n",
      "| 和歌山     |       95 |       93 |       91 |       91 |       92 |       92 |       86 |       86 |       83 |          8.7 |\n",
      "| 奈　良     |       73 |       73 |       75 |       78 |       76 |       75 |       77 |       78 |       77 |          5.7 |\n",
      "| 秋　田     |       86 |       82 |       80 |       78 |       78 |       75 |       72 |       70 |       69 |          6.8 |\n",
      "| 福　井     |       98 |       93 |       91 |       86 |       77 |       72 |       70 |       70 |       68 |          8.7 |\n",
      "| 山　形     |       69 |       69 |       69 |       70 |       70 |       68 |       68 |       68 |       68 |          6.1 |\n",
      "| 山　梨     |       61 |       59 |       62 |       61 |       60 |       60 |       60 |       60 |       60 |          7.2 |\n",
      "| 滋　賀     |       59 |       58 |       62 |       63 |       60 |       60 |       58 |       57 |       57 |          4   |\n",
      "| 島　根     |       63 |       61 |       59 |       58 |       57 |       54 |       52 |       51 |       51 |          7.4 |\n",
      "| 鳥　取     |       42 |       44 |       46 |       45 |       46 |       45 |       45 |       45 |       44 |          7.7 |\n"
     ]
    }
   ],
   "source": [
    "temp = data.sort_values(by=[\"2016年\"], ascending=False)\n",
    "print(tabulate(temp, headers='keys', tablefmt='pipe'))"
   ]
  },
  {
   "cell_type": "code",
   "execution_count": null,
   "metadata": {},
   "outputs": [],
   "source": [
    "%matplotlib inline\n",
    "import matplotlib.pyplot as plt\n",
    "from japanmap import *\n",
    "\n",
    "column_name = '人口10万対'\n",
    "\n",
    "color_map = {}\n",
    "\n",
    "temp = data.query(\"都道府県 != '全　国'\")\n",
    "\n",
    "mean = np.mean(temp[column_name])\n",
    "max_value = np.max(temp[column_name])\n",
    "min_value = np.min(temp[column_name])\n",
    "\n",
    "for index, row in temp.iterrows():        \n",
    "    prefecture = str(index).replace('　', '')\n",
    "    value = row[column_name]\n",
    "    if mean < value:\n",
    "        red_value = int(255 - 255 * (value - mean) / (max_value - mean))\n",
    "        red = str(hex(red_value))[2:]\n",
    "        if len(red) == 1:\n",
    "            red = \"0\" + red\n",
    "            \n",
    "        color_map[prefecture] = \"#\" + red + \"FF00\"\n",
    "    else:\n",
    "        green_value = int(255 - 255 * (mean - value) / (mean - min_value))\n",
    "        green = str(hex(green_value))[2:]\n",
    "        if len(green) == 1:\n",
    "            green = \"0\" + green\n",
    "        \n",
    "        color_map[prefecture] = \"#FF\" + green + \"00\"\n",
    "\n",
    "\n",
    "plt.imshow(picture(color_map));\n"
   ]
  },
  {
   "cell_type": "code",
   "execution_count": 42,
   "metadata": {},
   "outputs": [
    {
     "data": {
      "image/png": "[encoded data removed]",
      "text/plain": [
       "<Figure size 432x288 with 1 Axes>"
      ]
     },
     "metadata": {},
     "output_type": "display_data"
    }
   ],
   "source": [
    "%matplotlib inline\n",
    "import matplotlib.pyplot as plt\n",
    "from japanmap import *\n",
    "\n",
    "column_name = '2016年'\n",
    "\n",
    "color_map = {}\n",
    "\n",
    "temp = data.query(\"都道府県 != '全　国'\")\n",
    "\n",
    "mean = np.mean(temp[column_name])\n",
    "max_value = np.max(temp[column_name])\n",
    "min_value = np.min(temp[column_name])\n",
    "\n",
    "for index, row in temp.iterrows():        \n",
    "    prefecture = str(index).replace('　', '')\n",
    "    value = row[column_name]\n",
    "    if mean < value:\n",
    "        red_value = int(255 - 255 * (value - mean) / (max_value - mean))\n",
    "        red = str(hex(red_value))[2:]\n",
    "        if len(red) == 1:\n",
    "            red = \"0\" + red\n",
    "            \n",
    "        color_map[prefecture] = \"#\" + red + \"FF00\"\n",
    "    else:\n",
    "        green_value = int(255 - 255 * (mean - value) / (mean - min_value))\n",
    "        green = str(hex(green_value))[2:]\n",
    "        if len(green) == 1:\n",
    "            green = \"0\" + green\n",
    "        \n",
    "        color_map[prefecture] = \"#FF\" + green + \"00\"\n",
    "\n",
    "\n",
    "plt.imshow(picture(color_map));\n",
    "\n"
   ]
  },
  {
   "cell_type": "code",
   "execution_count": null,
   "metadata": {},
   "outputs": [],
   "source": []
  }
 ],
 "metadata": {
  "kernelspec": {
   "display_name": "Python 3",
   "language": "python",
   "name": "python3"
  },
  "language_info": {
   "codemirror_mode": {
    "name": "ipython",
    "version": 3
   },
   "file_extension": ".py",
   "mimetype": "text/x-python",
   "name": "python",
   "nbconvert_exporter": "python",
   "pygments_lexer": "ipython3",
   "version": "3.6.5"
  }
 },
 "nbformat": 4,
 "nbformat_minor": 2
}
